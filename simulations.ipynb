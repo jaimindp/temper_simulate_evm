{
 "cells": [
  {
   "cell_type": "code",
   "execution_count": 31,
   "metadata": {},
   "outputs": [],
   "source": [
    "import requests\n",
    "from pprint import pprint\n",
    "import json\n",
    "from dotenv import load_dotenv\n",
    "import os"
   ]
  },
  {
   "cell_type": "code",
   "execution_count": 32,
   "metadata": {},
   "outputs": [],
   "source": [
    "load_dotenv()\n",
    "api_key = os.getenv(\"API_KEY\")"
   ]
  },
  {
   "cell_type": "code",
   "execution_count": 33,
   "metadata": {},
   "outputs": [
    {
     "name": "stdout",
     "output_type": "stream",
     "text": [
      "401\n",
      "{'code': 401, 'message': 'UNAUTHORIZED'}\n"
     ]
    }
   ],
   "source": [
    "# Translate this comment command to something that we can use in python\n",
    "\n",
    "url = 'http://localhost:8080/api/v1/simulate'\n",
    "\n",
    "with open('tests/body.json', 'r') as file:\n",
    "    data = json.load(file)\n",
    "\n",
    "headers = {\n",
    "    'Content-Type': 'application/json'\n",
    "}\n",
    "\n",
    "response = requests.post(url, headers=headers, json=data)\n",
    "\n",
    "print(response.status_code)\n",
    "pprint(response.json())"
   ]
  },
  {
   "cell_type": "code",
   "execution_count": 46,
   "metadata": {},
   "outputs": [
    {
     "name": "stdout",
     "output_type": "stream",
     "text": [
      "200\n",
      "{'blockNumber': 50872834,\n",
      " 'exitReason': 'Revert',\n",
      " 'formattedTrace': '  [6481] '\n",
      "                   '\\x1b[31m0x643770E279d5D0733F21d6DC03A8efbABf3255B4\\x1b[0m::\\x1b[31mexecute\\x1b[0m{value: '\n",
      "                   '1}(0x0b00, '\n",
      "                   '[0x00000000000000000000000000000000000000000000000000000000000000020000000000000000000000000000000000000000000000000de0b6b3a7640000, '\n",
      "                   '0x00000000000000000000000000000000000000000000000000000000000000010000000000000000000000000000000000000000000000000de0b6b3a764000000000000000000000000000000000000000000000000000000000000000c88a700000000000000000000000000000000000000000000000000000000000000a00000000000000000000000000000000000000000000000000000000000000000000000000000000000000000000000000000000000000000000000000000002b0d500b1d8e8ef31e21c99d1db9a6444d3adf12700001f43c499c542cef5e3811e1192ce70d8cc03d5c3359000000000000000000000000000000000000000000], '\n",
      "                   '1702001876 \\x1b[2;49;39m[1.702e9]\\x1b[0m) \\x1b[33m\\x1b[0m\\n'\n",
      "                   '    └─ \\x1b[31m← \\x1b[0m0x6a12f104\\n',\n",
      " 'gasUsed': 30993,\n",
      " 'logs': [],\n",
      " 'returnData': '0x6a12f104',\n",
      " 'simulationId': 1,\n",
      " 'success': False,\n",
      " 'trace': [{'callType': 'CALL',\n",
      "            'from': '0x89d9dd2e85ecc305e276f51bb21fd4c708be9487',\n",
      "            'to': '0x643770e279d5d0733f21d6dc03a8efbabf3255b4',\n",
      "            'value': '0x1'}]}\n"
     ]
    }
   ],
   "source": [
    "# Translate this comment command to something that we can use in python\n",
    "\n",
    "url = 'http://localhost:8080/api/v1/simulate'\n",
    "\n",
    "with open('tests/bodyPolygon.json', 'r') as file:\n",
    "    data = json.load(file)\n",
    "\n",
    "headers = {\n",
    "    'Content-Type': 'application/json',\n",
    "    'X-API-KEY': api_key\n",
    "}\n",
    "\n",
    "response = requests.post(url, headers=headers, json=data)\n",
    "\n",
    "print(response.status_code)\n",
    "pprint(response.json())"
   ]
  }
 ],
 "metadata": {
  "kernelspec": {
   "display_name": ".venv",
   "language": "python",
   "name": ".venv"
  },
  "language_info": {
   "codemirror_mode": {
    "name": "ipython",
    "version": 3
   },
   "file_extension": ".py",
   "mimetype": "text/x-python",
   "name": "python",
   "nbconvert_exporter": "python",
   "pygments_lexer": "ipython3",
   "version": "3.8.5"
  }
 },
 "nbformat": 4,
 "nbformat_minor": 2
}
